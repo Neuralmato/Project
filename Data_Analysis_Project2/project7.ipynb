{
 "cells": [
  {
   "cell_type": "code",
   "execution_count": 178,
   "id": "1835b96f",
   "metadata": {},
   "outputs": [
    {
     "data": {
      "text/plain": [
       "['.git',\n",
       " 'analysi.ipynb',\n",
       " 'book.csv',\n",
       " 'Customer.csv',\n",
       " 'data-export.csv',\n",
       " 'diwalisale.csv',\n",
       " 'f2.csv',\n",
       " 'first.ipynb',\n",
       " 'googleplaystore.csv',\n",
       " 'main.html',\n",
       " 'NCRB_Table_1A.1.csv',\n",
       " 'Project 1.ipynb',\n",
       " 'project2.ipynb',\n",
       " 'project3.ipynb',\n",
       " 'project5.ipynb',\n",
       " 'project6.ipynb',\n",
       " 'project7.ipynb',\n",
       " 'Rainfalldistrict_2.csv',\n",
       " 'scholarship.csv',\n",
       " 'taklu.ipynb',\n",
       " 'Video_Games_5.json',\n",
       " 'Video_Games_5.json.gz',\n",
       " 'webscraping.ipynb']"
      ]
     },
     "execution_count": 178,
     "metadata": {},
     "output_type": "execute_result"
    }
   ],
   "source": [
    "import os\n",
    "os.listdir()"
   ]
  },
  {
   "cell_type": "code",
   "execution_count": 179,
   "id": "99e68aa0",
   "metadata": {},
   "outputs": [],
   "source": [
    "import pandas as pd \n",
    "import seaborn as sns\n",
    "import matplotlib.pyplot as plt\n",
    "df=pd.read_json(\"Video_Games_5.json\",lines=True) "
   ]
  },
  {
   "cell_type": "code",
   "execution_count": 180,
   "id": "292d7894",
   "metadata": {},
   "outputs": [
    {
     "data": {
      "text/plain": [
       "(497577, 12)"
      ]
     },
     "execution_count": 180,
     "metadata": {},
     "output_type": "execute_result"
    }
   ],
   "source": [
    "df.shape "
   ]
  },
  {
   "cell_type": "code",
   "execution_count": 181,
   "id": "17dccd34",
   "metadata": {},
   "outputs": [],
   "source": [
    "df['image'].isnull().sum() \n",
    "df=df.drop(columns=['image'])"
   ]
  },
  {
   "cell_type": "code",
   "execution_count": 182,
   "id": "f43baafc",
   "metadata": {},
   "outputs": [],
   "source": [
    "import re \n",
    "df['style']=df['style'].fillna('unknown').astype(str).str.extract(r\"'Platform:':\\s*'([^']*)'\")[0].fillna('unknown')"
   ]
  },
  {
   "cell_type": "code",
   "execution_count": 183,
   "id": "e9a3808e",
   "metadata": {},
   "outputs": [],
   "source": [
    "df['vote']=pd.to_numeric(df['vote'].str.replace(',',''),errors='coerce').fillna(0).astype(int)\n"
   ]
  },
  {
   "cell_type": "code",
   "execution_count": 184,
   "id": "b78ab2ef",
   "metadata": {},
   "outputs": [],
   "source": [
    "df['unixReviewTime'].isnull().sum()\n",
    "df['unixReviewTime']=pd.to_datetime(df['unixReviewTime'],unit='s')"
   ]
  },
  {
   "cell_type": "code",
   "execution_count": 185,
   "id": "8317fb57",
   "metadata": {},
   "outputs": [],
   "source": [
    "df=df.drop(columns='reviewTime',axis=1)\n",
    "df=df.dropna(subset='summary',axis=0)\n",
    "df['summary']=df['summary'].astype(str)\n",
    "df['summary']=df['summary'].str.lower()\n",
    "df['summary']=df['summary'].str.strip()"
   ]
  },
  {
   "cell_type": "code",
   "execution_count": 186,
   "id": "c21a969a",
   "metadata": {},
   "outputs": [],
   "source": [
    "df=df.dropna(subset='reviewText',axis=0)\n",
    "df['reviewText']=df['reviewText'].astype(str)\n",
    "df['reviewText']=df['reviewText'].str.lower()\n",
    "df['reviewText']=df['reviewText'].str.strip()"
   ]
  },
  {
   "cell_type": "code",
   "execution_count": 187,
   "id": "c140c3e8",
   "metadata": {},
   "outputs": [],
   "source": [
    "df=df.dropna(subset='reviewerName')"
   ]
  },
  {
   "cell_type": "code",
   "execution_count": 188,
   "id": "b141541a",
   "metadata": {},
   "outputs": [],
   "source": [
    "df['reviewerName']=df['reviewerName'].astype(str)\n",
    "df['reviewerName']=df['reviewerName'].str.lower()\n",
    "df['reviewerName']=df['reviewerName'].str.strip()"
   ]
  },
  {
   "cell_type": "code",
   "execution_count": 189,
   "id": "967cc0e9",
   "metadata": {},
   "outputs": [],
   "source": [
    "df['reviewerID']=df['reviewerID'].astype(str)"
   ]
  },
  {
   "cell_type": "code",
   "execution_count": 190,
   "id": "1f15af6b",
   "metadata": {},
   "outputs": [],
   "source": [
    "df['verified']=df['verified'].map({True: 1,False: 0})\n",
    "df['verified']=df['verified'].astype(int)"
   ]
  },
  {
   "cell_type": "code",
   "execution_count": 191,
   "id": "ae3233dd",
   "metadata": {},
   "outputs": [
    {
     "name": "stdout",
     "output_type": "stream",
     "text": [
      "<class 'pandas.core.frame.DataFrame'>\n",
      "Index: 497240 entries, 0 to 497576\n",
      "Data columns (total 10 columns):\n",
      " #   Column          Non-Null Count   Dtype         \n",
      "---  ------          --------------   -----         \n",
      " 0   overall         497240 non-null  int64         \n",
      " 1   verified        497240 non-null  int64         \n",
      " 2   reviewerID      497240 non-null  object        \n",
      " 3   asin            497240 non-null  object        \n",
      " 4   reviewerName    497240 non-null  object        \n",
      " 5   reviewText      497240 non-null  object        \n",
      " 6   summary         497240 non-null  object        \n",
      " 7   unixReviewTime  497240 non-null  datetime64[ns]\n",
      " 8   vote            497240 non-null  int64         \n",
      " 9   style           497240 non-null  object        \n",
      "dtypes: datetime64[ns](1), int64(3), object(6)\n",
      "memory usage: 41.7+ MB\n"
     ]
    },
    {
     "data": {
      "text/plain": [
       "(497240, 10)"
      ]
     },
     "execution_count": 191,
     "metadata": {},
     "output_type": "execute_result"
    }
   ],
   "source": [
    "# Basic Dataset Overview After Data Cleaning Process.\n",
    "df.describe()\n",
    "df.isnull().sum()\n",
    "df.info()\n",
    "df.shape"
   ]
  },
  {
   "cell_type": "code",
   "execution_count": 192,
   "id": "d3963cfb",
   "metadata": {},
   "outputs": [
    {
     "data": {
      "text/plain": [
       "'products generally perform well (high satisfaction),but ~11%\\nnegative reviews indicate issue (maybe product quality).\\nTarget neutral group convert into positive group in upcoming year/month.'"
      ]
     },
     "execution_count": 192,
     "metadata": {},
     "output_type": "execute_result"
    },
    {
     "data": {
      "image/png": "[encoded data removed]",
      "text/plain": [
       "<Figure size 800x800 with 1 Axes>"
      ]
     },
     "metadata": {},
     "output_type": "display_data"
    }
   ],
   "source": [
    "plt.figure(figsize=(8,8))\n",
    "total=len(df)\n",
    "positive=df[df[\"overall\"].isin([4,5])].shape[0]\n",
    "neutral=df[df[\"overall\"]==3].shape[0]\n",
    "negative=df[df[\"overall\"].isin([1,2])].shape[0]\n",
    "#print(\"Positive % :\",round((positive/total)*100,2))\n",
    "#print(\"Neutral % :\",round((neutral/total)*100,2))\n",
    "#print(\"Negative % :\",round((negative/total)*100,2))\n",
    "size=[positive,neutral,negative]\n",
    "plt.pie(size,labels=(\"Positive (4-5) star\",\" Neutral 3 star\",\"Negative (1-2) star\"),autopct='%1.1f%%')\n",
    "plt.legend()\n",
    "plt.title(\"Distribution of star rating.\")\n",
    "\n",
    "'''products generally perform well (high satisfaction),but ~11%\n",
    "negative reviews indicate issue (maybe product quality).\n",
    "Target neutral group convert into positive group in upcoming year/month.'''\n"
   ]
  },
  {
   "cell_type": "code",
   "execution_count": 193,
   "id": "5faf5757",
   "metadata": {},
   "outputs": [
    {
     "data": {
      "text/html": [
       "<div>\n",
       "<style scoped>\n",
       "    .dataframe tbody tr th:only-of-type {\n",
       "        vertical-align: middle;\n",
       "    }\n",
       "\n",
       "    .dataframe tbody tr th {\n",
       "        vertical-align: top;\n",
       "    }\n",
       "\n",
       "    .dataframe thead th {\n",
       "        text-align: right;\n",
       "    }\n",
       "</style>\n",
       "<table border=\"1\" class=\"dataframe\">\n",
       "  <thead>\n",
       "    <tr style=\"text-align: right;\">\n",
       "      <th></th>\n",
       "      <th>overall</th>\n",
       "      <th>verified</th>\n",
       "      <th>reviewerID</th>\n",
       "      <th>asin</th>\n",
       "      <th>reviewerName</th>\n",
       "      <th>reviewText</th>\n",
       "      <th>summary</th>\n",
       "      <th>unixReviewTime</th>\n",
       "      <th>vote</th>\n",
       "      <th>style</th>\n",
       "    </tr>\n",
       "  </thead>\n",
       "  <tbody>\n",
       "    <tr>\n",
       "      <th>0</th>\n",
       "      <td>5</td>\n",
       "      <td>1</td>\n",
       "      <td>A1HP7NVNPFMA4N</td>\n",
       "      <td>0700026657</td>\n",
       "      <td>ambrosia075</td>\n",
       "      <td>this game is a bit hard to get the hang of, bu...</td>\n",
       "      <td>but when you do it's great.</td>\n",
       "      <td>2015-10-17</td>\n",
       "      <td>0</td>\n",
       "      <td>unknown</td>\n",
       "    </tr>\n",
       "  </tbody>\n",
       "</table>\n",
       "</div>"
      ],
      "text/plain": [
       "   overall  verified      reviewerID        asin reviewerName  \\\n",
       "0        5         1  A1HP7NVNPFMA4N  0700026657  ambrosia075   \n",
       "\n",
       "                                          reviewText  \\\n",
       "0  this game is a bit hard to get the hang of, bu...   \n",
       "\n",
       "                       summary unixReviewTime  vote    style  \n",
       "0  but when you do it's great.     2015-10-17     0  unknown  "
      ]
     },
     "execution_count": 193,
     "metadata": {},
     "output_type": "execute_result"
    }
   ],
   "source": [
    "df.head(1)"
   ]
  },
  {
   "cell_type": "code",
   "execution_count": 194,
   "id": "b28c11a0",
   "metadata": {},
   "outputs": [
    {
     "name": "stderr",
     "output_type": "stream",
     "text": [
      "C:\\Users\\HP\\AppData\\Local\\Temp\\ipykernel_5648\\2805959947.py:2: UserWarning: set_ticklabels() should only be used with a fixed number of ticks, i.e. after set_ticks() or using a FixedLocator.\n",
      "  ax.set(xticklabels=[\"False\",\"True\"])\n"
     ]
    },
    {
     "data": {
      "text/plain": [
       "' Number of verified and non-verified user in data set '"
      ]
     },
     "execution_count": 194,
     "metadata": {},
     "output_type": "execute_result"
    },
    {
     "data": {
      "image/png": "[encoded data removed]",
      "text/plain": [
       "<Figure size 640x480 with 1 Axes>"
      ]
     },
     "metadata": {},
     "output_type": "display_data"
    }
   ],
   "source": [
    "ax=sns.countplot(data=df,x=\"verified\")\n",
    "ax.set(xticklabels=[\"False\",\"True\"])\n",
    "for bin in ax.containers:\n",
    "    ax.bar_label(bin)\n",
    "plt.title(\"Count verified and non-verified user\")\n",
    " \n",
    "''' Number of verified and non-verified user in data set ''' "
   ]
  },
  {
   "cell_type": "code",
   "execution_count": 195,
   "id": "bf4be249",
   "metadata": {},
   "outputs": [
    {
     "data": {
      "text/plain": [
       "' Non-verified users give 1-2 stars more and they \\n    give fake and biased reviews'"
      ]
     },
     "execution_count": 195,
     "metadata": {},
     "output_type": "execute_result"
    },
    {
     "data": {
      "image/png": "[encoded data removed]",
      "text/plain": [
       "<Figure size 640x480 with 1 Axes>"
      ]
     },
     "metadata": {},
     "output_type": "display_data"
    }
   ],
   "source": [
    "ax=sns.countplot(data=df,x=\"overall\",hue=\"verified\")\n",
    "plt.title(\"Distribution of ratings for verified vs non-verified\")\n",
    "plt.xlabel(\"Rating (1-5) star\")\n",
    "plt.legend()\n",
    "\n",
    "''' 0 for false\n",
    "    1 for true '''\n",
    "\n",
    "''' Verified users usually higher % of 4-5 stars \n",
    "    because it uses genuine product'''\n",
    "\n",
    "''' Non-verified users give 1-2 stars more and they \n",
    "    give fake and biased reviews'''"
   ]
  },
  {
   "cell_type": "code",
   "execution_count": 196,
   "id": "ec7305ba",
   "metadata": {},
   "outputs": [
    {
     "data": {
      "text/plain": [
       "' 55205 is unique reviewer in dataset '"
      ]
     },
     "execution_count": 196,
     "metadata": {},
     "output_type": "execute_result"
    }
   ],
   "source": [
    "df[\"reviewerID\"].nunique()\n",
    "\n",
    "''' 55205 is unique reviewer in dataset '''"
   ]
  },
  {
   "cell_type": "code",
   "execution_count": 197,
   "id": "358adf9b",
   "metadata": {},
   "outputs": [
    {
     "name": "stdout",
     "output_type": "stream",
     "text": [
      "           reviewerID  review_count\n",
      "41838  A3V6Z4RCDGRC44           815\n",
      "48613   AJKWF4W7QD4NS           795\n",
      "42225  A3W4D8XOGLWUN5           521\n",
      "25287  A2QHS1ZCIQOL7E           472\n",
      "26419  A2TCG2HV1VJP6V           453\n",
      "18438  A29BQ6B90Y1R5F           411\n",
      "567    A119Q9NFGVOEJZ           353\n",
      "16718  A2582KMXLK2P06           314\n",
      "14771  A20DZX38KRBIT8           282\n",
      "43583   A74TA8X5YQ7NE           262\n"
     ]
    },
    {
     "data": {
      "text/plain": [
       "' Top 10 reviewerID based on number of review '"
      ]
     },
     "execution_count": 197,
     "metadata": {},
     "output_type": "execute_result"
    }
   ],
   "source": [
    "top_review=df.groupby(\"reviewerID\").size().reset_index(name=\"review_count\")\n",
    "top_review=top_review.sort_values('review_count',ascending=False).head(10)\n",
    "print(top_review)\n",
    "\n",
    "''' Top 10 reviewerID based on number of review '''"
   ]
  },
  {
   "cell_type": "code",
   "execution_count": 198,
   "id": "98bcb525",
   "metadata": {},
   "outputs": [
    {
     "name": "stdout",
     "output_type": "stream",
     "text": [
      "       reviewerID  review_count  avg_rating\n",
      "0  A3V6Z4RCDGRC44           815    4.294479\n",
      "1   AJKWF4W7QD4NS           795    3.676730\n",
      "2  A3W4D8XOGLWUN5           521    3.758157\n",
      "3  A2QHS1ZCIQOL7E           472    3.669492\n",
      "4  A2TCG2HV1VJP6V           453    4.079470\n",
      "5  A29BQ6B90Y1R5F           411    4.209246\n",
      "6  A119Q9NFGVOEJZ           353    5.000000\n",
      "7  A2582KMXLK2P06           314    3.554140\n",
      "8  A20DZX38KRBIT8           282    3.294326\n",
      "9   A74TA8X5YQ7NE           262    3.706107\n"
     ]
    },
    {
     "data": {
      "text/plain": [
       "' Top 10 reviewerID based on average rating '"
      ]
     },
     "execution_count": 198,
     "metadata": {},
     "output_type": "execute_result"
    }
   ],
   "source": [
    "avg_ratings=df.groupby(\"reviewerID\")['overall'].mean().reset_index(name=\"avg_rating\")\n",
    "top_review=top_review.merge(avg_ratings,on='reviewerID')\n",
    "print(top_review)\n",
    "\n",
    "''' Top 10 reviewerID based on average rating '''"
   ]
  }
 ],
 "metadata": {
  "kernelspec": {
   "display_name": "Python 3",
   "language": "python",
   "name": "python3"
  },
  "language_info": {
   "codemirror_mode": {
    "name": "ipython",
    "version": 3
   },
   "file_extension": ".py",
   "mimetype": "text/x-python",
   "name": "python",
   "nbconvert_exporter": "python",
   "pygments_lexer": "ipython3",
   "version": "3.12.3"
  }
 },
 "nbformat": 4,
 "nbformat_minor": 5
}
